{
  "nbformat": 4,
  "nbformat_minor": 0,
  "metadata": {
    "colab": {
      "name": "Untitled0.ipynb",
      "provenance": [],
      "authorship_tag": "ABX9TyMkFIyfFz0DAKQBq7SnARBp",
      "include_colab_link": true
    },
    "kernelspec": {
      "name": "python3",
      "display_name": "Python 3"
    },
    "language_info": {
      "name": "python"
    }
  },
  "cells": [
    {
      "cell_type": "markdown",
      "metadata": {
        "id": "view-in-github",
        "colab_type": "text"
      },
      "source": [
        "<a href=\"https://colab.research.google.com/github/saipraveen333/Day1_ML/blob/main/Untitled0.ipynb\" target=\"_parent\"><img src=\"https://colab.research.google.com/assets/colab-badge.svg\" alt=\"Open In Colab\"/></a>"
      ]
    },
    {
      "cell_type": "code",
      "metadata": {
        "colab": {
          "base_uri": "https://localhost:8080/"
        },
        "id": "I6JfWOsHKrYs",
        "outputId": "74ab61c3-d2dc-48a2-ca4a-66592a370058"
      },
      "source": [
        "# pandas\n",
        "import numpy as np\n",
        "a=[1,2,3,4,5]\n",
        "arr1=np.array(a)\n",
        "b=[[1,2,3,4],[5,6,7,8]]\n",
        "arr2=np.array(b)\n",
        "print(arr1)"
      ],
      "execution_count": 2,
      "outputs": [
        {
          "output_type": "stream",
          "text": [
            "[1 2 3 4 5]\n"
          ],
          "name": "stdout"
        }
      ]
    },
    {
      "cell_type": "code",
      "metadata": {
        "colab": {
          "base_uri": "https://localhost:8080/"
        },
        "id": "osUhGH2GNyRP",
        "outputId": "d24081c4-ea44-4a7e-ad8c-d4964c6ef14a"
      },
      "source": [
        "print(type(a),type(arr1))"
      ],
      "execution_count": 4,
      "outputs": [
        {
          "output_type": "stream",
          "text": [
            "<class 'list'> <class 'numpy.ndarray'>\n"
          ],
          "name": "stdout"
        }
      ]
    },
    {
      "cell_type": "code",
      "metadata": {
        "colab": {
          "base_uri": "https://localhost:8080/"
        },
        "id": "MXf4VEBMOCPf",
        "outputId": "853e373d-c50e-4316-8cd8-501ed43f9296"
      },
      "source": [
        "import sys\n",
        "s=range(1000)\n",
        "print(sys.getsizeof(s)*len(s))\n"
      ],
      "execution_count": 8,
      "outputs": [
        {
          "output_type": "stream",
          "text": [
            "48000\n"
          ],
          "name": "stdout"
        }
      ]
    },
    {
      "cell_type": "code",
      "metadata": {
        "colab": {
          "base_uri": "https://localhost:8080/"
        },
        "id": "q1g1m3OqO7sv",
        "outputId": "bf2c74d5-ae40-4a15-b7e5-2124849fb040"
      },
      "source": [
        "import numpy as np\n",
        "s=np.arange(1000)\n",
        "print(s.itemsize*len(s))"
      ],
      "execution_count": 13,
      "outputs": [
        {
          "output_type": "stream",
          "text": [
            "8000\n"
          ],
          "name": "stdout"
        }
      ]
    },
    {
      "cell_type": "code",
      "metadata": {
        "colab": {
          "base_uri": "https://localhost:8080/"
        },
        "id": "MFMWWPajQSAI",
        "outputId": "7909ad2b-516f-4ddc-fe8f-583254229375"
      },
      "source": [
        "#import time library and calculate time elapsed\n",
        "import time\n",
        "a=range(1000)\n",
        "b=range(1000)\n",
        "start=time.time()\n",
        "ab=[(i*j) for i,j in zip(a,b) ]\n",
        "end=time.time()\n",
        "print(end-start)"
      ],
      "execution_count": 23,
      "outputs": [
        {
          "output_type": "stream",
          "text": [
            "range(0, 1000)\n",
            "0.00019431114196777344\n"
          ],
          "name": "stdout"
        }
      ]
    },
    {
      "cell_type": "code",
      "metadata": {
        "colab": {
          "base_uri": "https://localhost:8080/"
        },
        "id": "YWLH1ck9QfUQ",
        "outputId": "fe3f5575-12c4-4c62-de8b-a6faf756e80b"
      },
      "source": [
        "import numpy\n",
        "import time\n",
        "a=np.arange(1000)\n",
        "b=np.arange(1000)\n",
        "start=time.time()\n",
        "ab=a*b\n",
        "end=time.time()\n",
        "print(end-start)"
      ],
      "execution_count": 24,
      "outputs": [
        {
          "output_type": "stream",
          "text": [
            "9.083747863769531e-05\n"
          ],
          "name": "stdout"
        }
      ]
    },
    {
      "cell_type": "code",
      "metadata": {
        "colab": {
          "base_uri": "https://localhost:8080/"
        },
        "id": "1ilbz3PFVAwh",
        "outputId": "9e961619-702c-41d2-a773-b14b460cb358"
      },
      "source": [
        "arr1=np.array([[1,2,3,4],[5,6,7,8]],ndmin=2)\n",
        "print(arr1)"
      ],
      "execution_count": 28,
      "outputs": [
        {
          "output_type": "stream",
          "text": [
            "[[1 2 3 4]\n",
            " [5 6 7 8]]\n"
          ],
          "name": "stdout"
        }
      ]
    }
  ]
}